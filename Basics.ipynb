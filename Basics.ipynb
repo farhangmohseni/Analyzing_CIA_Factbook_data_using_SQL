{
 "cells": [
  {
   "cell_type": "markdown",
   "metadata": {},
   "source": [
    "# Analyzing CIA Factbook data using SQL"
   ]
  },
  {
   "cell_type": "markdown",
   "metadata": {},
   "source": [
    "we'll work with data from the CIA World Factbook, a compendium of statistics about all of the countries on Earth. The Factbook contains demographic information like the following:\n",
    "\n",
    "- name — the name of the country.\n",
    "- area— the country's total area (both land and water).\n",
    "- area_land — the country's land area in square kilometers.\n",
    "- area_water — the country's waterarea in square kilometers.\n",
    "- population — the country's population.\n",
    "- population_growth— the country's population growth as a percentage.\n",
    "- birth_rate — the country's birth rate, or the number of births per year per 1,000 people.\n",
    "- death_rate — the country's death rate, or the number of death per year per 1,000 people."
   ]
  },
  {
   "cell_type": "code",
   "execution_count": 2,
   "metadata": {
    "collapsed": false
   },
   "outputs": [
    {
     "data": {
      "text/plain": [
       "'Connected: None@factbook.db'"
      ]
     },
     "execution_count": 2,
     "metadata": {},
     "output_type": "execute_result"
    }
   ],
   "source": [
    "%%capture\n",
    "%load_ext sql\n",
    "%sql sqlite:///factbook.db"
   ]
  },
  {
   "cell_type": "code",
   "execution_count": 4,
   "metadata": {
    "collapsed": false
   },
   "outputs": [
    {
     "name": "stdout",
     "output_type": "stream",
     "text": [
      "Done.\n"
     ]
    },
    {
     "data": {
      "text/html": [
       "<table>\n",
       "    <tr>\n",
       "        <th>type</th>\n",
       "        <th>name</th>\n",
       "        <th>tbl_name</th>\n",
       "        <th>rootpage</th>\n",
       "        <th>sql</th>\n",
       "    </tr>\n",
       "    <tr>\n",
       "        <td>table</td>\n",
       "        <td>sqlite_sequence</td>\n",
       "        <td>sqlite_sequence</td>\n",
       "        <td>3</td>\n",
       "        <td>CREATE TABLE sqlite_sequence(name,seq)</td>\n",
       "    </tr>\n",
       "    <tr>\n",
       "        <td>table</td>\n",
       "        <td>facts</td>\n",
       "        <td>facts</td>\n",
       "        <td>47</td>\n",
       "        <td>CREATE TABLE &quot;facts&quot; (&quot;id&quot; INTEGER PRIMARY KEY AUTOINCREMENT NOT NULL, &quot;code&quot; varchar(255) NOT NULL, &quot;name&quot; varchar(255) NOT NULL, &quot;area&quot; integer, &quot;area_land&quot; integer, &quot;area_water&quot; integer, &quot;population&quot; integer, &quot;population_growth&quot; float, &quot;birth_rate&quot; float, &quot;death_rate&quot; float, &quot;migration_rate&quot; float)</td>\n",
       "    </tr>\n",
       "</table>"
      ],
      "text/plain": [
       "[('table', 'sqlite_sequence', 'sqlite_sequence', 3, 'CREATE TABLE sqlite_sequence(name,seq)'),\n",
       " ('table', 'facts', 'facts', 47, 'CREATE TABLE \"facts\" (\"id\" INTEGER PRIMARY KEY AUTOINCREMENT NOT NULL, \"code\" varchar(255) NOT NULL, \"name\" varchar(255) NOT NULL, \"area\" integer, \"a ... (4 characters truncated) ... land\" integer, \"area_water\" integer, \"population\" integer, \"population_growth\" float, \"birth_rate\" float, \"death_rate\" float, \"migration_rate\" float)')]"
      ]
     },
     "execution_count": 4,
     "metadata": {},
     "output_type": "execute_result"
    }
   ],
   "source": [
    "%%sql\n",
    "SELECT *\n",
    "    FROM sqlite_master\n",
    "  WHERE type='table'"
   ]
  },
  {
   "cell_type": "code",
   "execution_count": 6,
   "metadata": {
    "collapsed": false,
    "scrolled": true
   },
   "outputs": [
    {
     "name": "stdout",
     "output_type": "stream",
     "text": [
      "Done.\n"
     ]
    },
    {
     "data": {
      "text/html": [
       "<table>\n",
       "    <tr>\n",
       "        <th>id</th>\n",
       "        <th>code</th>\n",
       "        <th>name</th>\n",
       "        <th>area</th>\n",
       "        <th>area_land</th>\n",
       "        <th>area_water</th>\n",
       "        <th>population</th>\n",
       "        <th>population_growth</th>\n",
       "        <th>birth_rate</th>\n",
       "        <th>death_rate</th>\n",
       "        <th>migration_rate</th>\n",
       "    </tr>\n",
       "    <tr>\n",
       "        <td>1</td>\n",
       "        <td>af</td>\n",
       "        <td>Afghanistan</td>\n",
       "        <td>652230</td>\n",
       "        <td>652230</td>\n",
       "        <td>0</td>\n",
       "        <td>32564342</td>\n",
       "        <td>2.32</td>\n",
       "        <td>38.57</td>\n",
       "        <td>13.89</td>\n",
       "        <td>1.51</td>\n",
       "    </tr>\n",
       "    <tr>\n",
       "        <td>2</td>\n",
       "        <td>al</td>\n",
       "        <td>Albania</td>\n",
       "        <td>28748</td>\n",
       "        <td>27398</td>\n",
       "        <td>1350</td>\n",
       "        <td>3029278</td>\n",
       "        <td>0.3</td>\n",
       "        <td>12.92</td>\n",
       "        <td>6.58</td>\n",
       "        <td>3.3</td>\n",
       "    </tr>\n",
       "    <tr>\n",
       "        <td>3</td>\n",
       "        <td>ag</td>\n",
       "        <td>Algeria</td>\n",
       "        <td>2381741</td>\n",
       "        <td>2381741</td>\n",
       "        <td>0</td>\n",
       "        <td>39542166</td>\n",
       "        <td>1.84</td>\n",
       "        <td>23.67</td>\n",
       "        <td>4.31</td>\n",
       "        <td>0.92</td>\n",
       "    </tr>\n",
       "    <tr>\n",
       "        <td>4</td>\n",
       "        <td>an</td>\n",
       "        <td>Andorra</td>\n",
       "        <td>468</td>\n",
       "        <td>468</td>\n",
       "        <td>0</td>\n",
       "        <td>85580</td>\n",
       "        <td>0.12</td>\n",
       "        <td>8.13</td>\n",
       "        <td>6.96</td>\n",
       "        <td>0.0</td>\n",
       "    </tr>\n",
       "    <tr>\n",
       "        <td>5</td>\n",
       "        <td>ao</td>\n",
       "        <td>Angola</td>\n",
       "        <td>1246700</td>\n",
       "        <td>1246700</td>\n",
       "        <td>0</td>\n",
       "        <td>19625353</td>\n",
       "        <td>2.78</td>\n",
       "        <td>38.78</td>\n",
       "        <td>11.49</td>\n",
       "        <td>0.46</td>\n",
       "    </tr>\n",
       "</table>"
      ],
      "text/plain": [
       "[(1, 'af', 'Afghanistan', 652230, 652230, 0, 32564342, 2.32, 38.57, 13.89, 1.51),\n",
       " (2, 'al', 'Albania', 28748, 27398, 1350, 3029278, 0.3, 12.92, 6.58, 3.3),\n",
       " (3, 'ag', 'Algeria', 2381741, 2381741, 0, 39542166, 1.84, 23.67, 4.31, 0.92),\n",
       " (4, 'an', 'Andorra', 468, 468, 0, 85580, 0.12, 8.13, 6.96, 0.0),\n",
       " (5, 'ao', 'Angola', 1246700, 1246700, 0, 19625353, 2.78, 38.78, 11.49, 0.46)]"
      ]
     },
     "execution_count": 6,
     "metadata": {},
     "output_type": "execute_result"
    }
   ],
   "source": [
    "%%sql\n",
    "SELECT *\n",
    "    FROM facts\n",
    "  LIMIT 5"
   ]
  },
  {
   "cell_type": "code",
   "execution_count": 17,
   "metadata": {
    "collapsed": false,
    "scrolled": true
   },
   "outputs": [
    {
     "name": "stdout",
     "output_type": "stream",
     "text": [
      "Done.\n"
     ]
    },
    {
     "data": {
      "text/html": [
       "<table>\n",
       "    <tr>\n",
       "        <th>min_pop</th>\n",
       "        <th>max_pop</th>\n",
       "        <th>min_pop_growth</th>\n",
       "        <th>max_pop_growth</th>\n",
       "    </tr>\n",
       "    <tr>\n",
       "        <td>0</td>\n",
       "        <td>7256490011</td>\n",
       "        <td>0.0</td>\n",
       "        <td>4.02</td>\n",
       "    </tr>\n",
       "</table>"
      ],
      "text/plain": [
       "[(0, 7256490011, 0.0, 4.02)]"
      ]
     },
     "execution_count": 17,
     "metadata": {},
     "output_type": "execute_result"
    }
   ],
   "source": [
    "%%sql\n",
    "SELECT MIN(population) as min_pop, MAX(population) as max_pop,\n",
    "MIN(population_growth) as min_pop_growth, \n",
    "MAX(population_growth) as max_pop_growth\n",
    "    FROM facts"
   ]
  },
  {
   "cell_type": "code",
   "execution_count": 40,
   "metadata": {
    "collapsed": false
   },
   "outputs": [
    {
     "name": "stdout",
     "output_type": "stream",
     "text": [
      "(sqlite3.OperationalError) near \"as\": syntax error\n",
      "[SQL: SELECT * as 'Country w/ min population'\n",
      "    FROM facts\n",
      "  WHERE population == (SELECT MIN(population)\n",
      "                          FROM facts)]\n",
      "(Background on this error at: http://sqlalche.me/e/13/e3q8)\n"
     ]
    }
   ],
   "source": [
    "%%sql\n",
    "SELECT name as 'Country w/ min population'\n",
    "    FROM facts\n",
    "  WHERE population == (SELECT MIN(population)\n",
    "                          FROM facts)"
   ]
  },
  {
   "cell_type": "code",
   "execution_count": 22,
   "metadata": {
    "collapsed": false
   },
   "outputs": [
    {
     "name": "stdout",
     "output_type": "stream",
     "text": [
      "Done.\n"
     ]
    },
    {
     "data": {
      "text/html": [
       "<table>\n",
       "    <tr>\n",
       "        <th>Country w/ max population</th>\n",
       "    </tr>\n",
       "    <tr>\n",
       "        <td>World</td>\n",
       "    </tr>\n",
       "</table>"
      ],
      "text/plain": [
       "[('World',)]"
      ]
     },
     "execution_count": 22,
     "metadata": {},
     "output_type": "execute_result"
    }
   ],
   "source": [
    "%%sql\n",
    "SELECT name as 'Country w/ max population'\n",
    "    FROM facts\n",
    "  WHERE population == (SELECT MAX(population)\n",
    "                          FROM facts)"
   ]
  },
  {
   "cell_type": "markdown",
   "metadata": {},
   "source": [
    "Removing World and Antarctica from min/max calculation:"
   ]
  },
  {
   "cell_type": "code",
   "execution_count": 35,
   "metadata": {
    "collapsed": false
   },
   "outputs": [
    {
     "name": "stdout",
     "output_type": "stream",
     "text": [
      "Done.\n"
     ]
    },
    {
     "data": {
      "text/html": [
       "<table>\n",
       "    <tr>\n",
       "        <th>min_pop</th>\n",
       "        <th>max_pop</th>\n",
       "        <th>min_pop_growth</th>\n",
       "        <th>max_pop_growth</th>\n",
       "    </tr>\n",
       "    <tr>\n",
       "        <td>48</td>\n",
       "        <td>1367485388</td>\n",
       "        <td>0.0</td>\n",
       "        <td>4.02</td>\n",
       "    </tr>\n",
       "</table>"
      ],
      "text/plain": [
       "[(48, 1367485388, 0.0, 4.02)]"
      ]
     },
     "execution_count": 35,
     "metadata": {},
     "output_type": "execute_result"
    }
   ],
   "source": [
    "%%sql\n",
    "SELECT MIN(population) as min_pop, MAX(population) as max_pop,\n",
    "MIN(population_growth) as min_pop_growth, \n",
    "MAX(population_growth) as max_pop_growth\n",
    "    FROM facts\n",
    "  WHERE name NOT IN ('Antarctica', 'World')"
   ]
  },
  {
   "cell_type": "code",
   "execution_count": 36,
   "metadata": {
    "collapsed": false
   },
   "outputs": [
    {
     "name": "stdout",
     "output_type": "stream",
     "text": [
      "Done.\n"
     ]
    },
    {
     "data": {
      "text/html": [
       "<table>\n",
       "    <tr>\n",
       "        <th>AVG_populatoin</th>\n",
       "        <th>AVG_aera</th>\n",
       "    </tr>\n",
       "    <tr>\n",
       "        <td>32377011.0</td>\n",
       "        <td>555094.0</td>\n",
       "    </tr>\n",
       "</table>"
      ],
      "text/plain": [
       "[(32377011.0, 555094.0)]"
      ]
     },
     "execution_count": 36,
     "metadata": {},
     "output_type": "execute_result"
    }
   ],
   "source": [
    "%%sql\n",
    "SELECT ROUND(AVG(population),0) as AVG_populatoin, ROUND(AVG(area),0) as AVG_aera\n",
    "    FROM facts\n",
    "  WHERE name NOT IN ('Antarctica', 'World')"
   ]
  },
  {
   "cell_type": "markdown",
   "metadata": {},
   "source": [
    "----------\n",
    "Finding Densely Populated Countries\n",
    "-------"
   ]
  },
  {
   "cell_type": "markdown",
   "metadata": {},
   "source": [
    "To identify countries that have both of the following conditons:\n",
    "\n",
    "- Above-average values for population\n",
    "- Below-average values for area"
   ]
  },
  {
   "cell_type": "code",
   "execution_count": 39,
   "metadata": {
    "collapsed": false
   },
   "outputs": [
    {
     "name": "stdout",
     "output_type": "stream",
     "text": [
      "Done.\n"
     ]
    },
    {
     "data": {
      "text/html": [
       "<table>\n",
       "    <tr>\n",
       "        <th>name</th>\n",
       "    </tr>\n",
       "    <tr>\n",
       "        <td>Bangladesh</td>\n",
       "    </tr>\n",
       "    <tr>\n",
       "        <td>Germany</td>\n",
       "    </tr>\n",
       "    <tr>\n",
       "        <td>Iraq</td>\n",
       "    </tr>\n",
       "    <tr>\n",
       "        <td>Italy</td>\n",
       "    </tr>\n",
       "    <tr>\n",
       "        <td>Japan</td>\n",
       "    </tr>\n",
       "    <tr>\n",
       "        <td>Korea, South</td>\n",
       "    </tr>\n",
       "    <tr>\n",
       "        <td>Morocco</td>\n",
       "    </tr>\n",
       "    <tr>\n",
       "        <td>Philippines</td>\n",
       "    </tr>\n",
       "    <tr>\n",
       "        <td>Poland</td>\n",
       "    </tr>\n",
       "    <tr>\n",
       "        <td>Spain</td>\n",
       "    </tr>\n",
       "    <tr>\n",
       "        <td>Thailand</td>\n",
       "    </tr>\n",
       "    <tr>\n",
       "        <td>Uganda</td>\n",
       "    </tr>\n",
       "    <tr>\n",
       "        <td>United Kingdom</td>\n",
       "    </tr>\n",
       "    <tr>\n",
       "        <td>Vietnam</td>\n",
       "    </tr>\n",
       "</table>"
      ],
      "text/plain": [
       "[('Bangladesh',),\n",
       " ('Germany',),\n",
       " ('Iraq',),\n",
       " ('Italy',),\n",
       " ('Japan',),\n",
       " ('Korea, South',),\n",
       " ('Morocco',),\n",
       " ('Philippines',),\n",
       " ('Poland',),\n",
       " ('Spain',),\n",
       " ('Thailand',),\n",
       " ('Uganda',),\n",
       " ('United Kingdom',),\n",
       " ('Vietnam',)]"
      ]
     },
     "execution_count": 39,
     "metadata": {},
     "output_type": "execute_result"
    }
   ],
   "source": [
    "%%sql\n",
    "SELECT name\n",
    "    FROM facts\n",
    "  WHERE name NOT IN ('Antarctica', 'World') AND (\n",
    "        population > (SELECT AVG(population)\n",
    "                          FROM facts\n",
    "                        WHERE name NOT IN ('Antarctica', 'World')) \n",
    "         AND area < (SELECT AVG(area)\n",
    "                          FROM facts\n",
    "                        WHERE name NOT IN ('Antarctica', 'World'))\n",
    "        )"
   ]
  },
  {
   "cell_type": "markdown",
   "metadata": {},
   "source": [
    "-----\n",
    "Which country has the most people? Which country has the highest growth rate?\n",
    "----"
   ]
  },
  {
   "cell_type": "code",
   "execution_count": 42,
   "metadata": {
    "collapsed": false
   },
   "outputs": [
    {
     "name": "stdout",
     "output_type": "stream",
     "text": [
      "Done.\n"
     ]
    },
    {
     "data": {
      "text/html": [
       "<table>\n",
       "    <tr>\n",
       "        <th>name</th>\n",
       "        <th>population</th>\n",
       "        <th>population_growth</th>\n",
       "    </tr>\n",
       "    <tr>\n",
       "        <td>China</td>\n",
       "        <td>1367485388</td>\n",
       "        <td>0.45</td>\n",
       "    </tr>\n",
       "    <tr>\n",
       "        <td>South Sudan</td>\n",
       "        <td>12042910</td>\n",
       "        <td>4.02</td>\n",
       "    </tr>\n",
       "</table>"
      ],
      "text/plain": [
       "[('China', 1367485388, 0.45), ('South Sudan', 12042910, 4.02)]"
      ]
     },
     "execution_count": 42,
     "metadata": {},
     "output_type": "execute_result"
    }
   ],
   "source": [
    "%%sql\n",
    "SELECT name, population, population_growth\n",
    "    FROM facts\n",
    "  WHERE population == (SELECT MAX(population)\n",
    "                          FROM facts\n",
    "                        WHERE name NOT IN ('Antarctica', 'World')) OR \n",
    "        population_growth == (SELECT MAX(population_growth)\n",
    "                          FROM facts\n",
    "                        WHERE name NOT IN ('Antarctica', 'World'))"
   ]
  },
  {
   "cell_type": "markdown",
   "metadata": {},
   "source": [
    "-----\n",
    "Which countries have the highest ratios of water to land? Which countries have more water than land?\n",
    "-------"
   ]
  },
  {
   "cell_type": "code",
   "execution_count": 63,
   "metadata": {
    "collapsed": false
   },
   "outputs": [
    {
     "name": "stdout",
     "output_type": "stream",
     "text": [
      "Done.\n"
     ]
    },
    {
     "data": {
      "text/html": [
       "<table>\n",
       "    <tr>\n",
       "        <th>Countries w/ max water/land ratio</th>\n",
       "        <th>area_land</th>\n",
       "        <th>area_water</th>\n",
       "        <th>water_land_ratio</th>\n",
       "    </tr>\n",
       "    <tr>\n",
       "        <td>British Indian Ocean Territory</td>\n",
       "        <td>60</td>\n",
       "        <td>54340</td>\n",
       "        <td>905.67</td>\n",
       "    </tr>\n",
       "    <tr>\n",
       "        <td>Virgin Islands</td>\n",
       "        <td>346</td>\n",
       "        <td>1564</td>\n",
       "        <td>4.52</td>\n",
       "    </tr>\n",
       "    <tr>\n",
       "        <td>Puerto Rico</td>\n",
       "        <td>8870</td>\n",
       "        <td>4921</td>\n",
       "        <td>0.55</td>\n",
       "    </tr>\n",
       "    <tr>\n",
       "        <td>Bahamas, The</td>\n",
       "        <td>10010</td>\n",
       "        <td>3870</td>\n",
       "        <td>0.39</td>\n",
       "    </tr>\n",
       "    <tr>\n",
       "        <td>Guinea-Bissau</td>\n",
       "        <td>28120</td>\n",
       "        <td>8005</td>\n",
       "        <td>0.28</td>\n",
       "    </tr>\n",
       "    <tr>\n",
       "        <td>Malawi</td>\n",
       "        <td>94080</td>\n",
       "        <td>24404</td>\n",
       "        <td>0.26</td>\n",
       "    </tr>\n",
       "    <tr>\n",
       "        <td>Netherlands</td>\n",
       "        <td>33893</td>\n",
       "        <td>7650</td>\n",
       "        <td>0.23</td>\n",
       "    </tr>\n",
       "    <tr>\n",
       "        <td>Uganda</td>\n",
       "        <td>197100</td>\n",
       "        <td>43938</td>\n",
       "        <td>0.22</td>\n",
       "    </tr>\n",
       "    <tr>\n",
       "        <td>Eritrea</td>\n",
       "        <td>101000</td>\n",
       "        <td>16600</td>\n",
       "        <td>0.16</td>\n",
       "    </tr>\n",
       "    <tr>\n",
       "        <td>Liberia</td>\n",
       "        <td>96320</td>\n",
       "        <td>15049</td>\n",
       "        <td>0.16</td>\n",
       "    </tr>\n",
       "</table>"
      ],
      "text/plain": [
       "[('British Indian Ocean Territory', 60, 54340, 905.67),\n",
       " ('Virgin Islands', 346, 1564, 4.52),\n",
       " ('Puerto Rico', 8870, 4921, 0.55),\n",
       " ('Bahamas, The', 10010, 3870, 0.39),\n",
       " ('Guinea-Bissau', 28120, 8005, 0.28),\n",
       " ('Malawi', 94080, 24404, 0.26),\n",
       " ('Netherlands', 33893, 7650, 0.23),\n",
       " ('Uganda', 197100, 43938, 0.22),\n",
       " ('Eritrea', 101000, 16600, 0.16),\n",
       " ('Liberia', 96320, 15049, 0.16)]"
      ]
     },
     "execution_count": 63,
     "metadata": {},
     "output_type": "execute_result"
    }
   ],
   "source": [
    "%%sql\n",
    "SELECT name as \"Countries w/ max water/land ratio\", \n",
    "area_land, area_water, round(CAST(area_water as float)/area_land, 2) as water_land_ratio\n",
    "    FROM facts\n",
    "  WHERE name NOT IN ('Antarctica', 'World') AND area_water != 0\n",
    "  ORDER BY water_land_ratio DESC\n",
    "  LIMIT 10"
   ]
  },
  {
   "cell_type": "code",
   "execution_count": 50,
   "metadata": {
    "collapsed": false
   },
   "outputs": [
    {
     "name": "stdout",
     "output_type": "stream",
     "text": [
      "Done.\n"
     ]
    },
    {
     "data": {
      "text/html": [
       "<table>\n",
       "    <tr>\n",
       "        <th>Countries w/ more water than land</th>\n",
       "        <th>area_land</th>\n",
       "        <th>area_water</th>\n",
       "        <th>area_water/area_land</th>\n",
       "    </tr>\n",
       "    <tr>\n",
       "        <td>British Indian Ocean Territory</td>\n",
       "        <td>60</td>\n",
       "        <td>54340</td>\n",
       "        <td>905</td>\n",
       "    </tr>\n",
       "    <tr>\n",
       "        <td>Virgin Islands</td>\n",
       "        <td>346</td>\n",
       "        <td>1564</td>\n",
       "        <td>4</td>\n",
       "    </tr>\n",
       "</table>"
      ],
      "text/plain": [
       "[('British Indian Ocean Territory', 60, 54340, 905),\n",
       " ('Virgin Islands', 346, 1564, 4)]"
      ]
     },
     "execution_count": 50,
     "metadata": {},
     "output_type": "execute_result"
    }
   ],
   "source": [
    "%%sql\n",
    "SELECT name as \"Countries w/ more water than land\", \n",
    "area_land, area_water, area_water/area_land\n",
    "    FROM facts\n",
    "  WHERE area_water > area_land AND name NOT IN ('Antarctica', 'World')"
   ]
  },
  {
   "cell_type": "markdown",
   "metadata": {},
   "source": [
    "------\n",
    "Which countries will add the most people to their populations next year?\n",
    "---------"
   ]
  },
  {
   "cell_type": "code",
   "execution_count": 56,
   "metadata": {
    "collapsed": false
   },
   "outputs": [
    {
     "name": "stdout",
     "output_type": "stream",
     "text": [
      "Done.\n"
     ]
    },
    {
     "data": {
      "text/html": [
       "<table>\n",
       "    <tr>\n",
       "        <th>Countries that add most people</th>\n",
       "        <th>population</th>\n",
       "        <th>population_growth</th>\n",
       "        <th>added_people</th>\n",
       "    </tr>\n",
       "    <tr>\n",
       "        <td>India</td>\n",
       "        <td>1251695584</td>\n",
       "        <td>1.22</td>\n",
       "        <td>15270686.0</td>\n",
       "    </tr>\n",
       "    <tr>\n",
       "        <td>China</td>\n",
       "        <td>1367485388</td>\n",
       "        <td>0.45</td>\n",
       "        <td>6153684.0</td>\n",
       "    </tr>\n",
       "    <tr>\n",
       "        <td>Nigeria</td>\n",
       "        <td>181562056</td>\n",
       "        <td>2.45</td>\n",
       "        <td>4448270.0</td>\n",
       "    </tr>\n",
       "    <tr>\n",
       "        <td>Pakistan</td>\n",
       "        <td>199085847</td>\n",
       "        <td>1.46</td>\n",
       "        <td>2906653.0</td>\n",
       "    </tr>\n",
       "    <tr>\n",
       "        <td>Ethiopia</td>\n",
       "        <td>99465819</td>\n",
       "        <td>2.89</td>\n",
       "        <td>2874562.0</td>\n",
       "    </tr>\n",
       "    <tr>\n",
       "        <td>Bangladesh</td>\n",
       "        <td>168957745</td>\n",
       "        <td>1.6</td>\n",
       "        <td>2703324.0</td>\n",
       "    </tr>\n",
       "    <tr>\n",
       "        <td>United States</td>\n",
       "        <td>321368864</td>\n",
       "        <td>0.78</td>\n",
       "        <td>2506677.0</td>\n",
       "    </tr>\n",
       "    <tr>\n",
       "        <td>Indonesia</td>\n",
       "        <td>255993674</td>\n",
       "        <td>0.92</td>\n",
       "        <td>2355142.0</td>\n",
       "    </tr>\n",
       "    <tr>\n",
       "        <td>Congo, Democratic Republic of the</td>\n",
       "        <td>79375136</td>\n",
       "        <td>2.45</td>\n",
       "        <td>1944691.0</td>\n",
       "    </tr>\n",
       "    <tr>\n",
       "        <td>Philippines</td>\n",
       "        <td>100998376</td>\n",
       "        <td>1.61</td>\n",
       "        <td>1626074.0</td>\n",
       "    </tr>\n",
       "</table>"
      ],
      "text/plain": [
       "[('India', 1251695584, 1.22, 15270686.0),\n",
       " ('China', 1367485388, 0.45, 6153684.0),\n",
       " ('Nigeria', 181562056, 2.45, 4448270.0),\n",
       " ('Pakistan', 199085847, 1.46, 2906653.0),\n",
       " ('Ethiopia', 99465819, 2.89, 2874562.0),\n",
       " ('Bangladesh', 168957745, 1.6, 2703324.0),\n",
       " ('United States', 321368864, 0.78, 2506677.0),\n",
       " ('Indonesia', 255993674, 0.92, 2355142.0),\n",
       " ('Congo, Democratic Republic of the', 79375136, 2.45, 1944691.0),\n",
       " ('Philippines', 100998376, 1.61, 1626074.0)]"
      ]
     },
     "execution_count": 56,
     "metadata": {},
     "output_type": "execute_result"
    }
   ],
   "source": [
    "%%sql\n",
    "SELECT name as \"Countries that add most people\", \n",
    "population, population_growth, \n",
    "round(population * population_growth / 100) as added_people\n",
    "    FROM facts\n",
    "  WHERE name NOT IN ('Antarctica', 'World')\n",
    "  ORDER BY added_people DESC\n",
    "  LIMIT 10"
   ]
  },
  {
   "cell_type": "markdown",
   "metadata": {},
   "source": [
    "-----\n",
    "Which countries have a higher death rate than birth rate?\n",
    "-------"
   ]
  },
  {
   "cell_type": "code",
   "execution_count": 66,
   "metadata": {
    "collapsed": false
   },
   "outputs": [
    {
     "name": "stdout",
     "output_type": "stream",
     "text": [
      "Done.\n"
     ]
    },
    {
     "data": {
      "text/html": [
       "<table>\n",
       "    <tr>\n",
       "        <th>Countries w/ death rate &gt; birth rate</th>\n",
       "        <th>birth_rate</th>\n",
       "        <th>death_rate</th>\n",
       "        <th>population_growth</th>\n",
       "        <th>death - birth rate</th>\n",
       "    </tr>\n",
       "    <tr>\n",
       "        <td>Bulgaria</td>\n",
       "        <td>8.92</td>\n",
       "        <td>14.44</td>\n",
       "        <td>0.58</td>\n",
       "        <td>5.52</td>\n",
       "    </tr>\n",
       "    <tr>\n",
       "        <td>Serbia</td>\n",
       "        <td>9.08</td>\n",
       "        <td>13.66</td>\n",
       "        <td>0.46</td>\n",
       "        <td>4.58</td>\n",
       "    </tr>\n",
       "    <tr>\n",
       "        <td>Latvia</td>\n",
       "        <td>10.0</td>\n",
       "        <td>14.31</td>\n",
       "        <td>1.06</td>\n",
       "        <td>4.31</td>\n",
       "    </tr>\n",
       "    <tr>\n",
       "        <td>Lithuania</td>\n",
       "        <td>10.1</td>\n",
       "        <td>14.27</td>\n",
       "        <td>1.04</td>\n",
       "        <td>4.17</td>\n",
       "    </tr>\n",
       "    <tr>\n",
       "        <td>Ukraine</td>\n",
       "        <td>10.72</td>\n",
       "        <td>14.46</td>\n",
       "        <td>0.6</td>\n",
       "        <td>3.74</td>\n",
       "    </tr>\n",
       "    <tr>\n",
       "        <td>Hungary</td>\n",
       "        <td>9.16</td>\n",
       "        <td>12.73</td>\n",
       "        <td>0.22</td>\n",
       "        <td>3.57</td>\n",
       "    </tr>\n",
       "    <tr>\n",
       "        <td>Germany</td>\n",
       "        <td>8.47</td>\n",
       "        <td>11.42</td>\n",
       "        <td>0.17</td>\n",
       "        <td>2.95</td>\n",
       "    </tr>\n",
       "    <tr>\n",
       "        <td>Slovenia</td>\n",
       "        <td>8.42</td>\n",
       "        <td>11.37</td>\n",
       "        <td>0.26</td>\n",
       "        <td>2.95</td>\n",
       "    </tr>\n",
       "    <tr>\n",
       "        <td>Romania</td>\n",
       "        <td>9.14</td>\n",
       "        <td>11.9</td>\n",
       "        <td>0.3</td>\n",
       "        <td>2.76</td>\n",
       "    </tr>\n",
       "    <tr>\n",
       "        <td>Croatia</td>\n",
       "        <td>9.45</td>\n",
       "        <td>12.18</td>\n",
       "        <td>0.13</td>\n",
       "        <td>2.73</td>\n",
       "    </tr>\n",
       "    <tr>\n",
       "        <td>Belarus</td>\n",
       "        <td>10.7</td>\n",
       "        <td>13.36</td>\n",
       "        <td>0.2</td>\n",
       "        <td>2.66</td>\n",
       "    </tr>\n",
       "    <tr>\n",
       "        <td>Monaco</td>\n",
       "        <td>6.65</td>\n",
       "        <td>9.24</td>\n",
       "        <td>0.12</td>\n",
       "        <td>2.59</td>\n",
       "    </tr>\n",
       "    <tr>\n",
       "        <td>Greece</td>\n",
       "        <td>8.66</td>\n",
       "        <td>11.09</td>\n",
       "        <td>0.01</td>\n",
       "        <td>2.43</td>\n",
       "    </tr>\n",
       "    <tr>\n",
       "        <td>Saint Pierre and Miquelon</td>\n",
       "        <td>7.42</td>\n",
       "        <td>9.72</td>\n",
       "        <td>1.08</td>\n",
       "        <td>2.3</td>\n",
       "    </tr>\n",
       "    <tr>\n",
       "        <td>Russia</td>\n",
       "        <td>11.6</td>\n",
       "        <td>13.69</td>\n",
       "        <td>0.04</td>\n",
       "        <td>2.09</td>\n",
       "    </tr>\n",
       "    <tr>\n",
       "        <td>Estonia</td>\n",
       "        <td>10.51</td>\n",
       "        <td>12.4</td>\n",
       "        <td>0.55</td>\n",
       "        <td>1.89</td>\n",
       "    </tr>\n",
       "    <tr>\n",
       "        <td>Portugal</td>\n",
       "        <td>9.27</td>\n",
       "        <td>11.02</td>\n",
       "        <td>0.09</td>\n",
       "        <td>1.75</td>\n",
       "    </tr>\n",
       "    <tr>\n",
       "        <td>Japan</td>\n",
       "        <td>7.93</td>\n",
       "        <td>9.51</td>\n",
       "        <td>0.16</td>\n",
       "        <td>1.58</td>\n",
       "    </tr>\n",
       "    <tr>\n",
       "        <td>Italy</td>\n",
       "        <td>8.74</td>\n",
       "        <td>10.19</td>\n",
       "        <td>0.27</td>\n",
       "        <td>1.45</td>\n",
       "    </tr>\n",
       "    <tr>\n",
       "        <td>Bosnia and Herzegovina</td>\n",
       "        <td>8.87</td>\n",
       "        <td>9.75</td>\n",
       "        <td>0.13</td>\n",
       "        <td>0.88</td>\n",
       "    </tr>\n",
       "    <tr>\n",
       "        <td>Czech Republic</td>\n",
       "        <td>9.63</td>\n",
       "        <td>10.34</td>\n",
       "        <td>0.16</td>\n",
       "        <td>0.71</td>\n",
       "    </tr>\n",
       "    <tr>\n",
       "        <td>Moldova</td>\n",
       "        <td>12.0</td>\n",
       "        <td>12.59</td>\n",
       "        <td>1.03</td>\n",
       "        <td>0.59</td>\n",
       "    </tr>\n",
       "    <tr>\n",
       "        <td>Poland</td>\n",
       "        <td>9.74</td>\n",
       "        <td>10.19</td>\n",
       "        <td>0.09</td>\n",
       "        <td>0.45</td>\n",
       "    </tr>\n",
       "    <tr>\n",
       "        <td>Austria</td>\n",
       "        <td>9.41</td>\n",
       "        <td>9.42</td>\n",
       "        <td>0.55</td>\n",
       "        <td>0.01</td>\n",
       "    </tr>\n",
       "</table>"
      ],
      "text/plain": [
       "[('Bulgaria', 8.92, 14.44, 0.58, 5.52),\n",
       " ('Serbia', 9.08, 13.66, 0.46, 4.58),\n",
       " ('Latvia', 10.0, 14.31, 1.06, 4.31),\n",
       " ('Lithuania', 10.1, 14.27, 1.04, 4.17),\n",
       " ('Ukraine', 10.72, 14.46, 0.6, 3.74),\n",
       " ('Hungary', 9.16, 12.73, 0.22, 3.57),\n",
       " ('Germany', 8.47, 11.42, 0.17, 2.95),\n",
       " ('Slovenia', 8.42, 11.37, 0.26, 2.95),\n",
       " ('Romania', 9.14, 11.9, 0.3, 2.76),\n",
       " ('Croatia', 9.45, 12.18, 0.13, 2.73),\n",
       " ('Belarus', 10.7, 13.36, 0.2, 2.66),\n",
       " ('Monaco', 6.65, 9.24, 0.12, 2.59),\n",
       " ('Greece', 8.66, 11.09, 0.01, 2.43),\n",
       " ('Saint Pierre and Miquelon', 7.42, 9.72, 1.08, 2.3),\n",
       " ('Russia', 11.6, 13.69, 0.04, 2.09),\n",
       " ('Estonia', 10.51, 12.4, 0.55, 1.89),\n",
       " ('Portugal', 9.27, 11.02, 0.09, 1.75),\n",
       " ('Japan', 7.93, 9.51, 0.16, 1.58),\n",
       " ('Italy', 8.74, 10.19, 0.27, 1.45),\n",
       " ('Bosnia and Herzegovina', 8.87, 9.75, 0.13, 0.88),\n",
       " ('Czech Republic', 9.63, 10.34, 0.16, 0.71),\n",
       " ('Moldova', 12.0, 12.59, 1.03, 0.59),\n",
       " ('Poland', 9.74, 10.19, 0.09, 0.45),\n",
       " ('Austria', 9.41, 9.42, 0.55, 0.01)]"
      ]
     },
     "execution_count": 66,
     "metadata": {},
     "output_type": "execute_result"
    }
   ],
   "source": [
    "%%sql\n",
    "SELECT name as \"Countries w/ death rate > birth rate\", \n",
    "birth_rate, death_rate, population_growth, \n",
    "ROUND(death_rate-birth_rate,2) as 'death - birth rate'\n",
    "    FROM facts\n",
    "  WHERE name NOT IN ('Antarctica', 'World') AND death_rate > birth_rate\n",
    "  ORDER BY death_rate-birth_rate DESC"
   ]
  },
  {
   "cell_type": "markdown",
   "metadata": {},
   "source": [
    "------\n",
    "Which countries have the highest population/area ratio?\n",
    "--------"
   ]
  },
  {
   "cell_type": "code",
   "execution_count": 81,
   "metadata": {
    "collapsed": false
   },
   "outputs": [
    {
     "name": "stdout",
     "output_type": "stream",
     "text": [
      "Done.\n"
     ]
    },
    {
     "data": {
      "text/html": [
       "<table>\n",
       "    <tr>\n",
       "        <th>Countries w/ high pop/area</th>\n",
       "        <th>population</th>\n",
       "        <th>area</th>\n",
       "        <th>pop_area</th>\n",
       "    </tr>\n",
       "    <tr>\n",
       "        <td>Macau</td>\n",
       "        <td>592731</td>\n",
       "        <td>28</td>\n",
       "        <td>21169.0</td>\n",
       "    </tr>\n",
       "    <tr>\n",
       "        <td>Monaco</td>\n",
       "        <td>30535</td>\n",
       "        <td>2</td>\n",
       "        <td>15268.0</td>\n",
       "    </tr>\n",
       "    <tr>\n",
       "        <td>Singapore</td>\n",
       "        <td>5674472</td>\n",
       "        <td>697</td>\n",
       "        <td>8141.0</td>\n",
       "    </tr>\n",
       "    <tr>\n",
       "        <td>Hong Kong</td>\n",
       "        <td>7141106</td>\n",
       "        <td>1108</td>\n",
       "        <td>6445.0</td>\n",
       "    </tr>\n",
       "    <tr>\n",
       "        <td>Gaza Strip</td>\n",
       "        <td>1869055</td>\n",
       "        <td>360</td>\n",
       "        <td>5192.0</td>\n",
       "    </tr>\n",
       "    <tr>\n",
       "        <td>Gibraltar</td>\n",
       "        <td>29258</td>\n",
       "        <td>6</td>\n",
       "        <td>4876.0</td>\n",
       "    </tr>\n",
       "    <tr>\n",
       "        <td>Bahrain</td>\n",
       "        <td>1346613</td>\n",
       "        <td>760</td>\n",
       "        <td>1772.0</td>\n",
       "    </tr>\n",
       "    <tr>\n",
       "        <td>Maldives</td>\n",
       "        <td>393253</td>\n",
       "        <td>298</td>\n",
       "        <td>1320.0</td>\n",
       "    </tr>\n",
       "    <tr>\n",
       "        <td>Malta</td>\n",
       "        <td>413965</td>\n",
       "        <td>316</td>\n",
       "        <td>1310.0</td>\n",
       "    </tr>\n",
       "    <tr>\n",
       "        <td>Bermuda</td>\n",
       "        <td>70196</td>\n",
       "        <td>54</td>\n",
       "        <td>1300.0</td>\n",
       "    </tr>\n",
       "</table>"
      ],
      "text/plain": [
       "[('Macau', 592731, 28, 21169.0),\n",
       " ('Monaco', 30535, 2, 15268.0),\n",
       " ('Singapore', 5674472, 697, 8141.0),\n",
       " ('Hong Kong', 7141106, 1108, 6445.0),\n",
       " ('Gaza Strip', 1869055, 360, 5192.0),\n",
       " ('Gibraltar', 29258, 6, 4876.0),\n",
       " ('Bahrain', 1346613, 760, 1772.0),\n",
       " ('Maldives', 393253, 298, 1320.0),\n",
       " ('Malta', 413965, 316, 1310.0),\n",
       " ('Bermuda', 70196, 54, 1300.0)]"
      ]
     },
     "execution_count": 81,
     "metadata": {},
     "output_type": "execute_result"
    }
   ],
   "source": [
    "%%sql\n",
    "SELECT name as \"Countries w/ high pop/area\", \n",
    "population, area, ROUND(CAST(population as Float) / area) as pop_area\n",
    "    FROM facts\n",
    "  WHERE name NOT IN ('Antarctica', 'World') \n",
    "  ORDER BY pop_area DESC\n",
    "  LIMIT 10"
   ]
  },
  {
   "cell_type": "code",
   "execution_count": null,
   "metadata": {
    "collapsed": true
   },
   "outputs": [],
   "source": []
  }
 ],
 "metadata": {
  "kernelspec": {
   "display_name": "Python 3",
   "language": "python",
   "name": "python3"
  },
  "language_info": {
   "codemirror_mode": {
    "name": "ipython",
    "version": 3
   },
   "file_extension": ".py",
   "mimetype": "text/x-python",
   "name": "python",
   "nbconvert_exporter": "python",
   "pygments_lexer": "ipython3",
   "version": "3.4.3"
  }
 },
 "nbformat": 4,
 "nbformat_minor": 2
}
